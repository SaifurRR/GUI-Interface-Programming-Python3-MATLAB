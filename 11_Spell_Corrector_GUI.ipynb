{
 "cells": [
  {
   "cell_type": "code",
   "execution_count": 1,
   "id": "83b2152a",
   "metadata": {},
   "outputs": [
    {
     "name": "stdout",
     "output_type": "stream",
     "text": [
      "Collecting pyspellchecker\n",
      "  Downloading pyspellchecker-0.7.2-py3-none-any.whl (3.4 MB)\n",
      "Installing collected packages: pyspellchecker\n",
      "Successfully installed pyspellchecker-0.7.2\n"
     ]
    }
   ],
   "source": [
    "!pip install pyspellchecker\n"
   ]
  },
  {
   "cell_type": "code",
   "execution_count": null,
   "id": "c04bf096",
   "metadata": {},
   "outputs": [],
   "source": [
    "import tkinter as tk\n",
    "from spellchecker import SpellChecker\n",
    "\n",
    "# SpellCorrector class for creating the spell corrector GUI\n",
    "class SpellCorrector:\n",
    "    def __init__(self, root):\n",
    "        self.root = root\n",
    "        self.root.title(\"Spell Corrector\")\n",
    "\n",
    "        # Label to prompt for text input\n",
    "        self.label = tk.Label(root, text=\"Enter text:\")\n",
    "        self.label.pack()\n",
    "\n",
    "        # Text entry field for user input\n",
    "        self.text_entry = tk.Entry(root)\n",
    "        self.text_entry.pack()\n",
    "\n",
    "        # Button to initiate spell correction\n",
    "        self.correct_button = tk.Button(root, text=\"Correct\", command=self.correct_spelling)\n",
    "        self.correct_button.pack()\n",
    "\n",
    "        # Label to display the corrected text\n",
    "        self.result_label = tk.Label(root, text=\"\")\n",
    "        self.result_label.pack()\n",
    "\n",
    "        # Initialize the spell checker\n",
    "        self.spell_checker = SpellChecker()\n",
    "\n",
    "    # Method to perform spell correction\n",
    "    def correct_spelling(self):\n",
    "        text = self.text_entry.get()\n",
    "        corrected_text = self.spell_checker.correction(text)\n",
    "        self.result_label.config(text=f\"Corrected Text: {corrected_text}\")\n",
    "\n",
    "# Main function to create the GUI\n",
    "def main():\n",
    "    root = tk.Tk()\n",
    "    app = SpellCorrector(root)\n",
    "    root.mainloop()\n",
    "\n",
    "if __name__ == \"__main__\":\n",
    "    main()\n"
   ]
  },
  {
   "cell_type": "code",
   "execution_count": null,
   "id": "9198fe49",
   "metadata": {},
   "outputs": [],
   "source": []
  }
 ],
 "metadata": {
  "kernelspec": {
   "display_name": "Python 3",
   "language": "python",
   "name": "python3"
  },
  "language_info": {
   "codemirror_mode": {
    "name": "ipython",
    "version": 3
   },
   "file_extension": ".py",
   "mimetype": "text/x-python",
   "name": "python",
   "nbconvert_exporter": "python",
   "pygments_lexer": "ipython3",
   "version": "3.8.8"
  }
 },
 "nbformat": 4,
 "nbformat_minor": 5
}
