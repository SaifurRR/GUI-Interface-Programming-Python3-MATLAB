{
 "cells": [
  {
   "cell_type": "code",
   "execution_count": 1,
   "id": "56925a4c",
   "metadata": {},
   "outputs": [
    {
     "name": "stdout",
     "output_type": "stream",
     "text": [
      "Requirement already satisfied: vaderSentiment in c:\\users\\saifu\\anaconda3\\lib\\site-packages (3.3.2)\n",
      "Requirement already satisfied: requests in c:\\users\\saifu\\anaconda3\\lib\\site-packages (from vaderSentiment) (2.25.1)\n",
      "Requirement already satisfied: urllib3<1.27,>=1.21.1 in c:\\users\\saifu\\anaconda3\\lib\\site-packages (from requests->vaderSentiment) (1.26.4)\n",
      "Requirement already satisfied: idna<3,>=2.5 in c:\\users\\saifu\\anaconda3\\lib\\site-packages (from requests->vaderSentiment) (2.10)\n",
      "Requirement already satisfied: certifi>=2017.4.17 in c:\\users\\saifu\\anaconda3\\lib\\site-packages (from requests->vaderSentiment) (2023.7.22)\n",
      "Requirement already satisfied: chardet<5,>=3.0.2 in c:\\users\\saifu\\anaconda3\\lib\\site-packages (from requests->vaderSentiment) (4.0.0)\n"
     ]
    },
    {
     "name": "stderr",
     "output_type": "stream",
     "text": [
      "ERROR: Could not find a version that satisfies the requirement tkinter\n",
      "ERROR: No matching distribution found for tkinter\n"
     ]
    }
   ],
   "source": [
    "!pip install vaderSentiment\n",
    "!pip install tkinter"
   ]
  },
  {
   "cell_type": "code",
   "execution_count": null,
   "id": "1ece1a25",
   "metadata": {},
   "outputs": [],
   "source": [
    "import tkinter as tk\n",
    "from vaderSentiment.vaderSentiment import SentimentIntensityAnalyzer\n",
    "\n",
    "class SentimentAnalyzer:\n",
    "    def __init__(self, root):\n",
    "        self.root = root\n",
    "        self.root.title(\"Sentiment Analyzer\")\n",
    "\n",
    "        self.label = tk.Label(root, text=\"Enter text:\")\n",
    "        self.label.pack()\n",
    "\n",
    "        self.text_entry = tk.Entry(root)\n",
    "        self.text_entry.pack()\n",
    "\n",
    "        self.analyze_button = tk.Button(root, text=\"Analyze\", command=self.analyze_sentiment)\n",
    "        self.analyze_button.pack()\n",
    "\n",
    "        self.result_label = tk.Label(root, text=\"\")\n",
    "        self.result_label.pack()\n",
    "\n",
    "    def analyze_sentiment(self):\n",
    "        text = self.text_entry.get()\n",
    "        sentiment = self.get_sentiment(text)\n",
    "\n",
    "        self.result_label.config(text=f\"Sentiment: {sentiment}\")\n",
    "\n",
    "    def get_sentiment(self, text):\n",
    "        analyzer = SentimentIntensityAnalyzer()\n",
    "        sentiment_scores = analyzer.polarity_scores(text)\n",
    "        compound_score = sentiment_scores['compound']\n",
    "\n",
    "        if compound_score >= 0.05:\n",
    "            return \"Positive\"\n",
    "        elif compound_score <= -0.05:\n",
    "            return \"Negative\"\n",
    "        else:\n",
    "            return \"Neutral\"\n",
    "\n",
    "def main():\n",
    "    root = tk.Tk()\n",
    "    app = SentimentAnalyzer(root)\n",
    "    root.mainloop()\n",
    "\n",
    "if __name__ == \"__main__\":\n",
    "    main()\n"
   ]
  },
  {
   "cell_type": "code",
   "execution_count": null,
   "id": "27113c5a",
   "metadata": {},
   "outputs": [],
   "source": []
  }
 ],
 "metadata": {
  "kernelspec": {
   "display_name": "Python 3",
   "language": "python",
   "name": "python3"
  },
  "language_info": {
   "codemirror_mode": {
    "name": "ipython",
    "version": 3
   },
   "file_extension": ".py",
   "mimetype": "text/x-python",
   "name": "python",
   "nbconvert_exporter": "python",
   "pygments_lexer": "ipython3",
   "version": "3.8.8"
  }
 },
 "nbformat": 4,
 "nbformat_minor": 5
}
