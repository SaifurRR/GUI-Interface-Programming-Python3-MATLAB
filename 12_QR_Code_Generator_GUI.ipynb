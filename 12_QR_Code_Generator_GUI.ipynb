{
 "cells": [
  {
   "cell_type": "code",
   "execution_count": 3,
   "id": "0cf2eec4",
   "metadata": {},
   "outputs": [
    {
     "name": "stdout",
     "output_type": "stream",
     "text": [
      "Collecting qrcode[pil]\n",
      "  Downloading qrcode-7.4.2-py3-none-any.whl (46 kB)\n",
      "Collecting pypng\n",
      "  Downloading pypng-0.20220715.0-py3-none-any.whl (58 kB)\n",
      "Requirement already satisfied: typing-extensions in c:\\users\\saifu\\anaconda3\\lib\\site-packages (from qrcode[pil]) (4.5.0)\n",
      "Requirement already satisfied: colorama in c:\\users\\saifu\\anaconda3\\lib\\site-packages (from qrcode[pil]) (0.4.4)\n",
      "Collecting pillow>=9.1.0\n",
      "  Downloading Pillow-10.1.0-cp38-cp38-win_amd64.whl (2.6 MB)\n",
      "Installing collected packages: pypng, qrcode, pillow\n",
      "  Attempting uninstall: pillow\n",
      "    Found existing installation: Pillow 8.2.0\n",
      "    Uninstalling Pillow-8.2.0:\n",
      "      Successfully uninstalled Pillow-8.2.0\n",
      "Successfully installed pillow-10.1.0 pypng-0.20220715.0 qrcode-7.4.2\n",
      "Note: you may need to restart the kernel to use updated packages.\n"
     ]
    }
   ],
   "source": [
    "pip install qrcode[pil]\n"
   ]
  },
  {
   "cell_type": "code",
   "execution_count": null,
   "id": "0ad87909",
   "metadata": {},
   "outputs": [],
   "source": [
    "import tkinter as tk\n",
    "import qrcode\n",
    "from PIL import Image, ImageTk\n",
    "\n",
    "# QRCodeGenerator class for creating the QR code generator GUI\n",
    "class QRCodeGenerator:\n",
    "    def __init__(self, root):\n",
    "        self.root = root\n",
    "        self.root.title(\"QR Code Generator\")\n",
    "\n",
    "        # Label to prompt for text or URL input\n",
    "        self.label = tk.Label(root, text=\"Enter text or URL:\")\n",
    "        self.label.pack()\n",
    "\n",
    "        # Text entry field for user input\n",
    "        self.text_entry = tk.Entry(root)\n",
    "        self.text_entry.pack()\n",
    "\n",
    "        # Button to generate the QR code\n",
    "        self.generate_button = tk.Button(root, text=\"Generate QR Code\", command=self.generate_qr_code)\n",
    "        self.generate_button.pack()\n",
    "\n",
    "        # Label to display the generated QR code\n",
    "        self.qr_code_label = tk.Label(root)\n",
    "        self.qr_code_label.pack()\n",
    "\n",
    "    # Method to generate the QR code\n",
    "    def generate_qr_code(self):\n",
    "        data = self.text_entry.get()\n",
    "\n",
    "        # Create a QR code instance\n",
    "        qr = qrcode.QRCode(\n",
    "            version=1,\n",
    "            error_correction=qrcode.constants.ERROR_CORRECT_L,\n",
    "            box_size=10,\n",
    "            border=4,\n",
    "        )\n",
    "        qr.add_data(data)\n",
    "        qr.make(fit=True)\n",
    "\n",
    "        # Generate the QR code image\n",
    "        img = qr.make_image(fill_color=\"black\", back_color=\"white\")\n",
    "        img.save(\"qrcode.png\")  # Save the QR code image as 'qrcode.png'\n",
    "\n",
    "        # Load the generated QR code image and display it in the GUI\n",
    "        self.qr_code_image = Image.open(\"qrcode.png\")\n",
    "        self.qr_code_image = ImageTk.PhotoImage(self.qr_code_image)\n",
    "        self.qr_code_label.config(image=self.qr_code_image)\n",
    "        self.qr_code_label.photo = self.qr_code_image\n",
    "\n",
    "# Main function to create the GUI\n",
    "def main():\n",
    "    root = tk.Tk()\n",
    "    app = QRCodeGenerator(root)\n",
    "    root.mainloop()\n",
    "\n",
    "if __name__ == \"__main__\":\n",
    "    main()\n"
   ]
  },
  {
   "cell_type": "code",
   "execution_count": null,
   "id": "249e7c70",
   "metadata": {},
   "outputs": [],
   "source": []
  }
 ],
 "metadata": {
  "kernelspec": {
   "display_name": "Python 3",
   "language": "python",
   "name": "python3"
  },
  "language_info": {
   "codemirror_mode": {
    "name": "ipython",
    "version": 3
   },
   "file_extension": ".py",
   "mimetype": "text/x-python",
   "name": "python",
   "nbconvert_exporter": "python",
   "pygments_lexer": "ipython3",
   "version": "3.8.8"
  }
 },
 "nbformat": 4,
 "nbformat_minor": 5
}
